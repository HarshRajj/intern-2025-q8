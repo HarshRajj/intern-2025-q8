{
 "cells": [
  {
   "cell_type": "markdown",
   "id": "0c824b73",
   "metadata": {},
   "source": [
    "# Q8 Evaluation: Mean Score & Latency\n",
    "\n",
    "This notebook loads the evaluation results and plots the mean score and latency for each prompt version (A vs B)."
   ]
  },
  {
   "cell_type": "code",
   "execution_count": 1,
   "id": "8a46b955",
   "metadata": {},
   "outputs": [
    {
     "data": {
      "text/html": [
       "<div>\n",
       "<style scoped>\n",
       "    .dataframe tbody tr th:only-of-type {\n",
       "        vertical-align: middle;\n",
       "    }\n",
       "\n",
       "    .dataframe tbody tr th {\n",
       "        vertical-align: top;\n",
       "    }\n",
       "\n",
       "    .dataframe thead th {\n",
       "        text-align: right;\n",
       "    }\n",
       "</style>\n",
       "<table border=\"1\" class=\"dataframe\">\n",
       "  <thead>\n",
       "    <tr style=\"text-align: right;\">\n",
       "      <th></th>\n",
       "      <th>query</th>\n",
       "      <th>prompt_version</th>\n",
       "      <th>score</th>\n",
       "      <th>latency_ms</th>\n",
       "    </tr>\n",
       "  </thead>\n",
       "  <tbody>\n",
       "    <tr>\n",
       "      <th>0</th>\n",
       "      <td>What is the capital of France?</td>\n",
       "      <td>A</td>\n",
       "      <td>4</td>\n",
       "      <td>2213.2</td>\n",
       "    </tr>\n",
       "    <tr>\n",
       "      <th>1</th>\n",
       "      <td>Explain quantum computing in simple terms.</td>\n",
       "      <td>A</td>\n",
       "      <td>3</td>\n",
       "      <td>4403.5</td>\n",
       "    </tr>\n",
       "    <tr>\n",
       "      <th>2</th>\n",
       "      <td>How do I bake a chocolate cake?</td>\n",
       "      <td>A</td>\n",
       "      <td>3</td>\n",
       "      <td>8419.4</td>\n",
       "    </tr>\n",
       "    <tr>\n",
       "      <th>3</th>\n",
       "      <td>What are the benefits of meditation?</td>\n",
       "      <td>A</td>\n",
       "      <td>5</td>\n",
       "      <td>3882.8</td>\n",
       "    </tr>\n",
       "    <tr>\n",
       "      <th>4</th>\n",
       "      <td>Summarize the plot of 'Inception'.</td>\n",
       "      <td>A</td>\n",
       "      <td>3</td>\n",
       "      <td>2804.3</td>\n",
       "    </tr>\n",
       "  </tbody>\n",
       "</table>\n",
       "</div>"
      ],
      "text/plain": [
       "                                        query prompt_version  score  \\\n",
       "0              What is the capital of France?              A      4   \n",
       "1  Explain quantum computing in simple terms.              A      3   \n",
       "2             How do I bake a chocolate cake?              A      3   \n",
       "3        What are the benefits of meditation?              A      5   \n",
       "4          Summarize the plot of 'Inception'.              A      3   \n",
       "\n",
       "   latency_ms  \n",
       "0      2213.2  \n",
       "1      4403.5  \n",
       "2      8419.4  \n",
       "3      3882.8  \n",
       "4      2804.3  "
      ]
     },
     "execution_count": 1,
     "metadata": {},
     "output_type": "execute_result"
    }
   ],
   "source": [
    "import pandas as pd\n",
    "import matplotlib.pyplot as plt\n",
    "\n",
    "df = pd.read_csv('../data/results.csv')\n",
    "df.head()"
   ]
  },
  {
   "cell_type": "code",
   "execution_count": 2,
   "id": "d6a2bb59",
   "metadata": {},
   "outputs": [
    {
     "data": {
      "text/html": [
       "<div>\n",
       "<style scoped>\n",
       "    .dataframe tbody tr th:only-of-type {\n",
       "        vertical-align: middle;\n",
       "    }\n",
       "\n",
       "    .dataframe tbody tr th {\n",
       "        vertical-align: top;\n",
       "    }\n",
       "\n",
       "    .dataframe thead th {\n",
       "        text-align: right;\n",
       "    }\n",
       "</style>\n",
       "<table border=\"1\" class=\"dataframe\">\n",
       "  <thead>\n",
       "    <tr style=\"text-align: right;\">\n",
       "      <th></th>\n",
       "      <th>prompt_version</th>\n",
       "      <th>score</th>\n",
       "      <th>latency_ms</th>\n",
       "    </tr>\n",
       "  </thead>\n",
       "  <tbody>\n",
       "    <tr>\n",
       "      <th>0</th>\n",
       "      <td>A</td>\n",
       "      <td>3.7</td>\n",
       "      <td>3083.360</td>\n",
       "    </tr>\n",
       "    <tr>\n",
       "      <th>1</th>\n",
       "      <td>B</td>\n",
       "      <td>3.6</td>\n",
       "      <td>2663.945</td>\n",
       "    </tr>\n",
       "  </tbody>\n",
       "</table>\n",
       "</div>"
      ],
      "text/plain": [
       "  prompt_version  score  latency_ms\n",
       "0              A    3.7    3083.360\n",
       "1              B    3.6    2663.945"
      ]
     },
     "execution_count": 2,
     "metadata": {},
     "output_type": "execute_result"
    }
   ],
   "source": [
    "# Group by prompt_version and calculate mean score and latency\n",
    "summary = df.groupby('prompt_version').agg({'score': 'mean', 'latency_ms': 'mean'}).reset_index()\n",
    "summary"
   ]
  },
  {
   "cell_type": "code",
   "execution_count": 3,
   "id": "102ffc01",
   "metadata": {},
   "outputs": [
    {
     "data": {
      "image/png": "[encoded data removed]",
      "text/plain": [
       "<Figure size 600x400 with 1 Axes>"
      ]
     },
     "metadata": {},
     "output_type": "display_data"
    }
   ],
   "source": [
    "# Plot mean score\n",
    "plt.figure(figsize=(6,4))\n",
    "plt.bar(summary['prompt_version'], summary['score'], color=['#4F8EF7', '#F7B64F'])\n",
    "plt.title('Mean Score by Prompt Version')\n",
    "plt.ylabel('Mean Score (1-5)')\n",
    "plt.xlabel('Prompt Version')\n",
    "plt.ylim(1,5)\n",
    "plt.show()"
   ]
  },
  {
   "cell_type": "code",
   "execution_count": 4,
   "id": "1c30f685",
   "metadata": {},
   "outputs": [
    {
     "data": {
      "image/png": "[encoded data removed]",
      "text/plain": [
       "<Figure size 600x400 with 1 Axes>"
      ]
     },
     "metadata": {},
     "output_type": "display_data"
    }
   ],
   "source": [
    "# Plot mean latency\n",
    "plt.figure(figsize=(6,4))\n",
    "plt.bar(summary['prompt_version'], summary['latency_ms'], color=['#4F8EF7', '#F7B64F'])\n",
    "plt.title('Mean Latency by Prompt Version')\n",
    "plt.ylabel('Mean Latency (ms)')\n",
    "plt.xlabel('Prompt Version')\n",
    "plt.show()"
   ]
  },
  {
   "cell_type": "code",
   "execution_count": null,
   "id": "b50a2147",
   "metadata": {},
   "outputs": [],
   "source": []
  }
 ],
 "metadata": {
  "kernelspec": {
   "display_name": "venv",
   "language": "python",
   "name": "python3"
  },
  "language_info": {
   "codemirror_mode": {
    "name": "ipython",
    "version": 3
   },
   "file_extension": ".py",
   "mimetype": "text/x-python",
   "name": "python",
   "nbconvert_exporter": "python",
   "pygments_lexer": "ipython3",
   "version": "3.11.9"
  }
 },
 "nbformat": 4,
 "nbformat_minor": 5
}
